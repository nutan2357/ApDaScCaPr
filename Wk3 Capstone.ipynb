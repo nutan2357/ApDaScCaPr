{
 "cells": [
  {
   "cell_type": "markdown",
   "metadata": {},
   "source": [
    "# Question 1"
   ]
  },
  {
   "cell_type": "code",
   "execution_count": 1,
   "metadata": {},
   "outputs": [],
   "source": [
    "import pandas as pd\n",
    "from bs4 import BeautifulSoup\n",
    "import requests"
   ]
  },
  {
   "cell_type": "markdown",
   "metadata": {},
   "source": [
    "##### Getting Wiki page's content using beautiful soup"
   ]
  },
  {
   "cell_type": "code",
   "execution_count": 162,
   "metadata": {
    "scrolled": true
   },
   "outputs": [
    {
     "name": "stdout",
     "output_type": "stream",
     "text": [
      "<!DOCTYPE html>\n",
      "<html class=\"client-nojs\" dir=\"ltr\" lang=\"en\">\n",
      " <head>\n",
      "  <meta charset=\"utf-8\"/>\n",
      "  <title>\n",
      "   List of postal codes of Canada: M - Wikipedia\n",
      "  </title>\n",
      "  <script>\n",
      "   document.documentElement.className=\"client-js\";RLCONF={\"wgBreakFrames\":!1,\"wgSeparatorTransformTable\":[\"\",\"\"],\"wgDigitTransformTable\":[\"\",\"\"],\"wgDefaultDateFormat\":\"dmy\",\"wgMonthNames\":[\"\",\"January\",\"February\",\"March\",\"April\",\"May\",\"June\",\"July\",\"August\",\"September\",\"October\",\"November\",\"December\"],\"wgMonthNamesShort\":[\"\",\"Jan\",\"Feb\",\"Mar\",\"Apr\",\"May\",\"Jun\",\"Jul\",\"Aug\",\"Sep\",\"Oct\",\"Nov\",\"Dec\"],\"wgRequestId\":\"XeqLzApAMEoAAFPAAnQAAABU\",\"wgCSPNonce\":!1,\"wgCanonicalNamespace\":\"\",\"wgCanonicalSpecialPageName\":!1,\"wgNamespaceNumber\":0,\"wgPageName\":\"List_of_postal_codes_of_Canada:_M\",\"wgTitle\":\"List of postal codes of Canada: M\",\"wgCurRevisionId\":929562264,\"wgRevisionId\":929562264,\"wgArticleId\":539066,\"wgIsArticle\":!0,\"wgIsRedirect\":!1,\"wgAction\":\"view\",\"wgUserName\":null,\"wgUserGroups\":[\"*\"],\"wgCategories\":[\"Communi\n"
     ]
    }
   ],
   "source": [
    "website_url = requests.get('https://en.wikipedia.org/wiki/List_of_postal_codes_of_Canada:_M').text \n",
    "soup = BeautifulSoup(website_url,'lxml') #getting the lxml format from the website\n",
    "print(soup.prettify()[0:1000]) #pinting to check the table class \n",
    "#Restricted the size of the print to make this notebook easily scrollable in git view"
   ]
  },
  {
   "cell_type": "markdown",
   "metadata": {},
   "source": [
    "#### The table of post codes in the website is identified using the class method  <br>  and then the tr elements in the table are identified using the findAll method tocreate a list called namelist   <br> Each row of the table is a string in nameList"
   ]
  },
  {
   "cell_type": "code",
   "execution_count": 8,
   "metadata": {
    "scrolled": true
   },
   "outputs": [
    {
     "data": {
      "text/plain": [
       "['\\nPostcode\\nBorough\\nNeighbourhood\\n', '\\nM1A\\nNot assigned\\nNot assigned\\n']"
      ]
     },
     "execution_count": 8,
     "metadata": {},
     "output_type": "execute_result"
    }
   ],
   "source": [
    "My_table = soup.find('table',{'class':'wikitable sortable'}) #the find method is to used to locate the table \n",
    "trs = My_table.findAll('tr') # all the sub elements in the table which are the rows are identified using the findAll method\n",
    "nameList = [i.text for i in trs] # looping through to make it into a list\n",
    "nameList[0:2]"
   ]
  },
  {
   "cell_type": "markdown",
   "metadata": {},
   "source": [
    "#### Looping through the list and splitting the strings into individual columns using the \\n delimiter "
   ]
  },
  {
   "cell_type": "code",
   "execution_count": 9,
   "metadata": {},
   "outputs": [
    {
     "data": {
      "text/plain": [
       "[['', 'Postcode', 'Borough', 'Neighbourhood', ''],\n",
       " ['', 'M1A', 'Not assigned', 'Not assigned', '']]"
      ]
     },
     "execution_count": 9,
     "metadata": {},
     "output_type": "execute_result"
    }
   ],
   "source": [
    "ls = []\n",
    "for k in nameList:\n",
    "    ls.append(k.split('\\n')) # the string has a delimiter \\n which is used to split it to differentiate the columns\n",
    "ls[0:2]"
   ]
  },
  {
   "cell_type": "markdown",
   "metadata": {},
   "source": [
    "##### This is then added to a data frame <br>  The blank columns are dropped off and column headers are correctly named"
   ]
  },
  {
   "cell_type": "code",
   "execution_count": 11,
   "metadata": {},
   "outputs": [
    {
     "data": {
      "text/html": [
       "<div>\n",
       "<style scoped>\n",
       "    .dataframe tbody tr th:only-of-type {\n",
       "        vertical-align: middle;\n",
       "    }\n",
       "\n",
       "    .dataframe tbody tr th {\n",
       "        vertical-align: top;\n",
       "    }\n",
       "\n",
       "    .dataframe thead th {\n",
       "        text-align: right;\n",
       "    }\n",
       "</style>\n",
       "<table border=\"1\" class=\"dataframe\">\n",
       "  <thead>\n",
       "    <tr style=\"text-align: right;\">\n",
       "      <th></th>\n",
       "      <th>Postcode</th>\n",
       "      <th>Borough</th>\n",
       "      <th>Neighbourhood</th>\n",
       "    </tr>\n",
       "  </thead>\n",
       "  <tbody>\n",
       "    <tr>\n",
       "      <th>0</th>\n",
       "      <td>M1A</td>\n",
       "      <td>Not assigned</td>\n",
       "      <td>Not assigned</td>\n",
       "    </tr>\n",
       "    <tr>\n",
       "      <th>1</th>\n",
       "      <td>M2A</td>\n",
       "      <td>Not assigned</td>\n",
       "      <td>Not assigned</td>\n",
       "    </tr>\n",
       "  </tbody>\n",
       "</table>\n",
       "</div>"
      ],
      "text/plain": [
       "0 Postcode       Borough Neighbourhood\n",
       "0      M1A  Not assigned  Not assigned\n",
       "1      M2A  Not assigned  Not assigned"
      ]
     },
     "execution_count": 11,
     "metadata": {},
     "output_type": "execute_result"
    }
   ],
   "source": [
    "df_test = pd.DataFrame(ls) \n",
    "df_test.drop([0,4], axis = 1, inplace = True) # the first and last columns are blank columns created from the split \n",
    "#These are dropped off \n",
    "\n",
    "# the column headers are in the first row. This row is used to replace the column headers of the data frame \n",
    "df_neigh =pd.DataFrame(df_test.values[1:], columns = df_test.iloc[0] ) \n",
    "df_neigh.head(2)"
   ]
  },
  {
   "cell_type": "markdown",
   "metadata": {},
   "source": [
    "##### The rows with Borough as 'Not assigned' are dropped off "
   ]
  },
  {
   "cell_type": "code",
   "execution_count": 12,
   "metadata": {
    "scrolled": true
   },
   "outputs": [],
   "source": [
    "df_n1 = df_neigh[df_neigh.iloc[:,1] != 'Not assigned'].copy()"
   ]
  },
  {
   "cell_type": "markdown",
   "metadata": {},
   "source": [
    "##### Indexes of the rows with 'Not assigned ' in the Neighbourhood column are identified and replaced with the Borough name"
   ]
  },
  {
   "cell_type": "code",
   "execution_count": null,
   "metadata": {},
   "outputs": [],
   "source": [
    "narows = df_n1[df_n1['Neighbourhood'] == 'Not assigned'].index\n",
    "df_n1.loc[narows ,'Neighbourhood'] = df_n1['Borough']"
   ]
  },
  {
   "cell_type": "markdown",
   "metadata": {},
   "source": [
    "##### The dataframe is now grouped by Postcode and Borough to aggregate the Neighbourhoods by a comma"
   ]
  },
  {
   "cell_type": "code",
   "execution_count": 14,
   "metadata": {},
   "outputs": [
    {
     "data": {
      "text/html": [
       "<div>\n",
       "<style scoped>\n",
       "    .dataframe tbody tr th:only-of-type {\n",
       "        vertical-align: middle;\n",
       "    }\n",
       "\n",
       "    .dataframe tbody tr th {\n",
       "        vertical-align: top;\n",
       "    }\n",
       "\n",
       "    .dataframe thead th {\n",
       "        text-align: right;\n",
       "    }\n",
       "</style>\n",
       "<table border=\"1\" class=\"dataframe\">\n",
       "  <thead>\n",
       "    <tr style=\"text-align: right;\">\n",
       "      <th></th>\n",
       "      <th>Postcode</th>\n",
       "      <th>Borough</th>\n",
       "      <th>Neighbourhood</th>\n",
       "    </tr>\n",
       "  </thead>\n",
       "  <tbody>\n",
       "    <tr>\n",
       "      <th>0</th>\n",
       "      <td>M1B</td>\n",
       "      <td>Scarborough</td>\n",
       "      <td>Rouge,Malvern</td>\n",
       "    </tr>\n",
       "    <tr>\n",
       "      <th>1</th>\n",
       "      <td>M1C</td>\n",
       "      <td>Scarborough</td>\n",
       "      <td>Highland Creek,Rouge Hill,Port Union</td>\n",
       "    </tr>\n",
       "    <tr>\n",
       "      <th>2</th>\n",
       "      <td>M1E</td>\n",
       "      <td>Scarborough</td>\n",
       "      <td>Guildwood,Morningside,West Hill</td>\n",
       "    </tr>\n",
       "    <tr>\n",
       "      <th>3</th>\n",
       "      <td>M1G</td>\n",
       "      <td>Scarborough</td>\n",
       "      <td>Woburn</td>\n",
       "    </tr>\n",
       "    <tr>\n",
       "      <th>4</th>\n",
       "      <td>M1H</td>\n",
       "      <td>Scarborough</td>\n",
       "      <td>Cedarbrae</td>\n",
       "    </tr>\n",
       "  </tbody>\n",
       "</table>\n",
       "</div>"
      ],
      "text/plain": [
       "  Postcode      Borough                         Neighbourhood\n",
       "0      M1B  Scarborough                         Rouge,Malvern\n",
       "1      M1C  Scarborough  Highland Creek,Rouge Hill,Port Union\n",
       "2      M1E  Scarborough       Guildwood,Morningside,West Hill\n",
       "3      M1G  Scarborough                                Woburn\n",
       "4      M1H  Scarborough                             Cedarbrae"
      ]
     },
     "execution_count": 14,
     "metadata": {},
     "output_type": "execute_result"
    }
   ],
   "source": [
    "df_n2 = df_n1.groupby(['Postcode','Borough'])['Neighbourhood'].agg(','.join).reset_index()\n",
    "df_n2.head(5)"
   ]
  },
  {
   "cell_type": "markdown",
   "metadata": {},
   "source": [
    "## The dataframe has 103 rows and 3 columns "
   ]
  },
  {
   "cell_type": "code",
   "execution_count": 163,
   "metadata": {},
   "outputs": [
    {
     "data": {
      "text/plain": [
       "(103, 3)"
      ]
     },
     "execution_count": 163,
     "metadata": {},
     "output_type": "execute_result"
    }
   ],
   "source": [
    "df_n2.shape"
   ]
  },
  {
   "cell_type": "markdown",
   "metadata": {},
   "source": [
    "# Question 2"
   ]
  },
  {
   "cell_type": "markdown",
   "metadata": {},
   "source": [
    "#### Reading the CSV file to get the geo coordinates of the postal codes"
   ]
  },
  {
   "cell_type": "code",
   "execution_count": 19,
   "metadata": {},
   "outputs": [
    {
     "data": {
      "text/plain": [
       "(103, 3)"
      ]
     },
     "execution_count": 19,
     "metadata": {},
     "output_type": "execute_result"
    }
   ],
   "source": [
    "df_latlong = pd.read_csv('https://cocl.us/Geospatial_data')\n",
    "df_latlong.shape"
   ]
  },
  {
   "cell_type": "markdown",
   "metadata": {},
   "source": [
    "#### Merging this data from the CSV file to the data frame from Question 1 i.e. the data frame on postal codes scraped from wikipedia"
   ]
  },
  {
   "cell_type": "code",
   "execution_count": 37,
   "metadata": {},
   "outputs": [
    {
     "name": "stdout",
     "output_type": "stream",
     "text": [
      "(103, 5)\n"
     ]
    },
    {
     "data": {
      "text/html": [
       "<div>\n",
       "<style scoped>\n",
       "    .dataframe tbody tr th:only-of-type {\n",
       "        vertical-align: middle;\n",
       "    }\n",
       "\n",
       "    .dataframe tbody tr th {\n",
       "        vertical-align: top;\n",
       "    }\n",
       "\n",
       "    .dataframe thead th {\n",
       "        text-align: right;\n",
       "    }\n",
       "</style>\n",
       "<table border=\"1\" class=\"dataframe\">\n",
       "  <thead>\n",
       "    <tr style=\"text-align: right;\">\n",
       "      <th></th>\n",
       "      <th>Postcode</th>\n",
       "      <th>Borough</th>\n",
       "      <th>Neighbourhood</th>\n",
       "      <th>Latitude</th>\n",
       "      <th>Longitude</th>\n",
       "    </tr>\n",
       "  </thead>\n",
       "  <tbody>\n",
       "    <tr>\n",
       "      <th>0</th>\n",
       "      <td>M1B</td>\n",
       "      <td>Scarborough</td>\n",
       "      <td>Rouge,Malvern</td>\n",
       "      <td>43.806686</td>\n",
       "      <td>-79.194353</td>\n",
       "    </tr>\n",
       "    <tr>\n",
       "      <th>1</th>\n",
       "      <td>M1C</td>\n",
       "      <td>Scarborough</td>\n",
       "      <td>Highland Creek,Rouge Hill,Port Union</td>\n",
       "      <td>43.784535</td>\n",
       "      <td>-79.160497</td>\n",
       "    </tr>\n",
       "    <tr>\n",
       "      <th>2</th>\n",
       "      <td>M1E</td>\n",
       "      <td>Scarborough</td>\n",
       "      <td>Guildwood,Morningside,West Hill</td>\n",
       "      <td>43.763573</td>\n",
       "      <td>-79.188711</td>\n",
       "    </tr>\n",
       "    <tr>\n",
       "      <th>3</th>\n",
       "      <td>M1G</td>\n",
       "      <td>Scarborough</td>\n",
       "      <td>Woburn</td>\n",
       "      <td>43.770992</td>\n",
       "      <td>-79.216917</td>\n",
       "    </tr>\n",
       "    <tr>\n",
       "      <th>4</th>\n",
       "      <td>M1H</td>\n",
       "      <td>Scarborough</td>\n",
       "      <td>Cedarbrae</td>\n",
       "      <td>43.773136</td>\n",
       "      <td>-79.239476</td>\n",
       "    </tr>\n",
       "  </tbody>\n",
       "</table>\n",
       "</div>"
      ],
      "text/plain": [
       "  Postcode      Borough                         Neighbourhood   Latitude  \\\n",
       "0      M1B  Scarborough                         Rouge,Malvern  43.806686   \n",
       "1      M1C  Scarborough  Highland Creek,Rouge Hill,Port Union  43.784535   \n",
       "2      M1E  Scarborough       Guildwood,Morningside,West Hill  43.763573   \n",
       "3      M1G  Scarborough                                Woburn  43.770992   \n",
       "4      M1H  Scarborough                             Cedarbrae  43.773136   \n",
       "\n",
       "   Longitude  \n",
       "0 -79.194353  \n",
       "1 -79.160497  \n",
       "2 -79.188711  \n",
       "3 -79.216917  \n",
       "4 -79.239476  "
      ]
     },
     "execution_count": 37,
     "metadata": {},
     "output_type": "execute_result"
    }
   ],
   "source": [
    "df_n2_ll = df_n2.merge(df_latlong, left_on='Postcode', right_on='Postal Code').drop('Postal Code', axis = 1) #Dropping the additional postal code column\n",
    "\n",
    "#print the shape and the first 5 rows of the new data frame \n",
    "print(df_n2_ll.shape)\n",
    "df_n2_ll.head()"
   ]
  },
  {
   "cell_type": "markdown",
   "metadata": {},
   "source": [
    "#### The new merged data frame has 103 rows and 5 columns"
   ]
  },
  {
   "cell_type": "markdown",
   "metadata": {},
   "source": [
    "# Question 3"
   ]
  },
  {
   "cell_type": "markdown",
   "metadata": {},
   "source": [
    "#### Importing needed package dependencies <br> and setting up the variables for use later in the foursquare URL"
   ]
  },
  {
   "cell_type": "code",
   "execution_count": 39,
   "metadata": {},
   "outputs": [],
   "source": [
    "import requests \n",
    "import numpy as np\n",
    "import json\n",
    "from pandas.io.json import json_normalize # tranform JSON file into a pandas dataframe\n",
    "import matplotlib.cm as cm\n",
    "import matplotlib.colors as colors\n",
    "\n",
    "from sklearn.cluster import KMeans\n",
    "import folium # mapping library\n",
    "\n",
    "CLIENT_ID = 'OWU5LYGCIFULB5FRPEBMPR5SFDBNMHWS4EBY5HSY0DY3TMX4' # your Foursquare ID\n",
    "CLIENT_SECRET = 'MFCOPWOFDDXYN4FKURRCLAIZAPVPA3RPB3R2U3BVVY0TNZJH' # your Foursquare Secret\n",
    "VERSION = '20180605' # Foursquare API version\n",
    "LIMIT = 100 # limit of number of venues returned by Foursquare API\n",
    "radius = 500 # define radius"
   ]
  },
  {
   "cell_type": "markdown",
   "metadata": {},
   "source": [
    "##### Creating a function for querying foursquare and extracting the venue details close to the requested latitude and longitude"
   ]
  },
  {
   "cell_type": "code",
   "execution_count": 129,
   "metadata": {},
   "outputs": [],
   "source": [
    "def getNearbyVenues(names, latitudes, longitudes, radius=500):\n",
    "    \n",
    "    venues_list=[]\n",
    "    for name, lat, lng in zip(names, latitudes, longitudes):\n",
    "        # create the API request URL\n",
    "        url = 'https://api.foursquare.com/v2/venues/explore?&client_id={}&client_secret={}&v={}&ll={},{}&radius={}&limit={}'.format(\n",
    "            CLIENT_ID, \n",
    "            CLIENT_SECRET, \n",
    "            VERSION, \n",
    "            lat, \n",
    "            lng, \n",
    "            radius, \n",
    "            LIMIT)\n",
    "            \n",
    "        # make the GET request\n",
    "        results = requests.get(url).json()[\"response\"]['groups'][0]['items']\n",
    "        # Handle those post codes which have no results \n",
    "        if not results:\n",
    "            print(name, \" postcode returned no results so skipping addition \")\n",
    "        else:\n",
    "            # return only relevant information for each nearby venue\n",
    "            venues_list.append([(\n",
    "                name, \n",
    "                lat, \n",
    "                lng, \n",
    "                v['venue']['name'], \n",
    "                v['venue']['location']['lat'], \n",
    "                v['venue']['location']['lng'],  \n",
    "                v['venue']['categories'][0]['name']) for v in results])\n",
    "\n",
    "    nearby_venues = pd.DataFrame([item for venue_list in venues_list for item in venue_list])\n",
    "    nearby_venues.columns = ['Postcode', \n",
    "                  'Postcode Latitude', \n",
    "                  'Postcode Longitude', \n",
    "                  'Venue', \n",
    "                  'Venue Latitude', \n",
    "                  'Venue Longitude', \n",
    "                  'Venue Category']\n",
    "    \n",
    "    return(nearby_venues)"
   ]
  },
  {
   "cell_type": "markdown",
   "metadata": {},
   "source": [
    "#### Calling the function on the data frame created in question 2 i.e. the one which has the latitude/logitude details along with the Postal Code "
   ]
  },
  {
   "cell_type": "code",
   "execution_count": 130,
   "metadata": {},
   "outputs": [
    {
     "name": "stdout",
     "output_type": "stream",
     "text": [
      "M1X  postcode returned no results so skipping addition \n",
      "M2M  postcode returned no results so skipping addition \n",
      "M9A  postcode returned no results so skipping addition \n",
      "(2232, 7)\n"
     ]
    },
    {
     "data": {
      "text/html": [
       "<div>\n",
       "<style scoped>\n",
       "    .dataframe tbody tr th:only-of-type {\n",
       "        vertical-align: middle;\n",
       "    }\n",
       "\n",
       "    .dataframe tbody tr th {\n",
       "        vertical-align: top;\n",
       "    }\n",
       "\n",
       "    .dataframe thead th {\n",
       "        text-align: right;\n",
       "    }\n",
       "</style>\n",
       "<table border=\"1\" class=\"dataframe\">\n",
       "  <thead>\n",
       "    <tr style=\"text-align: right;\">\n",
       "      <th></th>\n",
       "      <th>Postcode</th>\n",
       "      <th>Postcode Latitude</th>\n",
       "      <th>Postcode Longitude</th>\n",
       "      <th>Venue</th>\n",
       "      <th>Venue Latitude</th>\n",
       "      <th>Venue Longitude</th>\n",
       "      <th>Venue Category</th>\n",
       "    </tr>\n",
       "  </thead>\n",
       "  <tbody>\n",
       "    <tr>\n",
       "      <th>0</th>\n",
       "      <td>M1B</td>\n",
       "      <td>43.806686</td>\n",
       "      <td>-79.194353</td>\n",
       "      <td>Wendy's</td>\n",
       "      <td>43.807448</td>\n",
       "      <td>-79.199056</td>\n",
       "      <td>Fast Food Restaurant</td>\n",
       "    </tr>\n",
       "    <tr>\n",
       "      <th>1</th>\n",
       "      <td>M1C</td>\n",
       "      <td>43.784535</td>\n",
       "      <td>-79.160497</td>\n",
       "      <td>Royal Canadian Legion</td>\n",
       "      <td>43.782533</td>\n",
       "      <td>-79.163085</td>\n",
       "      <td>Bar</td>\n",
       "    </tr>\n",
       "    <tr>\n",
       "      <th>2</th>\n",
       "      <td>M1E</td>\n",
       "      <td>43.763573</td>\n",
       "      <td>-79.188711</td>\n",
       "      <td>Swiss Chalet Rotisserie &amp; Grill</td>\n",
       "      <td>43.767697</td>\n",
       "      <td>-79.189914</td>\n",
       "      <td>Pizza Place</td>\n",
       "    </tr>\n",
       "    <tr>\n",
       "      <th>3</th>\n",
       "      <td>M1E</td>\n",
       "      <td>43.763573</td>\n",
       "      <td>-79.188711</td>\n",
       "      <td>G &amp; G Electronics</td>\n",
       "      <td>43.765309</td>\n",
       "      <td>-79.191537</td>\n",
       "      <td>Electronics Store</td>\n",
       "    </tr>\n",
       "    <tr>\n",
       "      <th>4</th>\n",
       "      <td>M1E</td>\n",
       "      <td>43.763573</td>\n",
       "      <td>-79.188711</td>\n",
       "      <td>Marina Spa</td>\n",
       "      <td>43.766000</td>\n",
       "      <td>-79.191000</td>\n",
       "      <td>Spa</td>\n",
       "    </tr>\n",
       "  </tbody>\n",
       "</table>\n",
       "</div>"
      ],
      "text/plain": [
       "  Postcode  Postcode Latitude  Postcode Longitude  \\\n",
       "0      M1B          43.806686          -79.194353   \n",
       "1      M1C          43.784535          -79.160497   \n",
       "2      M1E          43.763573          -79.188711   \n",
       "3      M1E          43.763573          -79.188711   \n",
       "4      M1E          43.763573          -79.188711   \n",
       "\n",
       "                             Venue  Venue Latitude  Venue Longitude  \\\n",
       "0                          Wendy's       43.807448       -79.199056   \n",
       "1            Royal Canadian Legion       43.782533       -79.163085   \n",
       "2  Swiss Chalet Rotisserie & Grill       43.767697       -79.189914   \n",
       "3                G & G Electronics       43.765309       -79.191537   \n",
       "4                       Marina Spa       43.766000       -79.191000   \n",
       "\n",
       "         Venue Category  \n",
       "0  Fast Food Restaurant  \n",
       "1                   Bar  \n",
       "2           Pizza Place  \n",
       "3     Electronics Store  \n",
       "4                   Spa  "
      ]
     },
     "execution_count": 130,
     "metadata": {},
     "output_type": "execute_result"
    }
   ],
   "source": [
    "Torrono_venues = getNearbyVenues(names=df_n2_ll['Postcode'],\n",
    "                                   latitudes=df_n2_ll['Latitude'],\n",
    "                                   longitudes=df_n2_ll['Longitude'])\n",
    "print(Torrono_venues.shape)\n",
    "Torrono_venues.head()"
   ]
  },
  {
   "cell_type": "markdown",
   "metadata": {},
   "source": [
    "#### The venue categories are now dummy coded and appended with the post code column to get a data frame ready for clustering"
   ]
  },
  {
   "cell_type": "code",
   "execution_count": 86,
   "metadata": {},
   "outputs": [
    {
     "data": {
      "text/html": [
       "<div>\n",
       "<style scoped>\n",
       "    .dataframe tbody tr th:only-of-type {\n",
       "        vertical-align: middle;\n",
       "    }\n",
       "\n",
       "    .dataframe tbody tr th {\n",
       "        vertical-align: top;\n",
       "    }\n",
       "\n",
       "    .dataframe thead th {\n",
       "        text-align: right;\n",
       "    }\n",
       "</style>\n",
       "<table border=\"1\" class=\"dataframe\">\n",
       "  <thead>\n",
       "    <tr style=\"text-align: right;\">\n",
       "      <th></th>\n",
       "      <th>Postcode</th>\n",
       "      <th>Accessories Store</th>\n",
       "      <th>Afghan Restaurant</th>\n",
       "      <th>Airport</th>\n",
       "      <th>Airport Food Court</th>\n",
       "      <th>Airport Gate</th>\n",
       "      <th>Airport Lounge</th>\n",
       "      <th>Airport Service</th>\n",
       "      <th>Airport Terminal</th>\n",
       "      <th>American Restaurant</th>\n",
       "      <th>...</th>\n",
       "      <th>Train Station</th>\n",
       "      <th>Vegetarian / Vegan Restaurant</th>\n",
       "      <th>Video Game Store</th>\n",
       "      <th>Video Store</th>\n",
       "      <th>Vietnamese Restaurant</th>\n",
       "      <th>Warehouse Store</th>\n",
       "      <th>Wine Bar</th>\n",
       "      <th>Wings Joint</th>\n",
       "      <th>Women's Store</th>\n",
       "      <th>Yoga Studio</th>\n",
       "    </tr>\n",
       "  </thead>\n",
       "  <tbody>\n",
       "    <tr>\n",
       "      <th>0</th>\n",
       "      <td>M1B</td>\n",
       "      <td>0</td>\n",
       "      <td>0</td>\n",
       "      <td>0</td>\n",
       "      <td>0</td>\n",
       "      <td>0</td>\n",
       "      <td>0</td>\n",
       "      <td>0</td>\n",
       "      <td>0</td>\n",
       "      <td>0</td>\n",
       "      <td>...</td>\n",
       "      <td>0</td>\n",
       "      <td>0</td>\n",
       "      <td>0</td>\n",
       "      <td>0</td>\n",
       "      <td>0</td>\n",
       "      <td>0</td>\n",
       "      <td>0</td>\n",
       "      <td>0</td>\n",
       "      <td>0</td>\n",
       "      <td>0</td>\n",
       "    </tr>\n",
       "    <tr>\n",
       "      <th>1</th>\n",
       "      <td>M1C</td>\n",
       "      <td>0</td>\n",
       "      <td>0</td>\n",
       "      <td>0</td>\n",
       "      <td>0</td>\n",
       "      <td>0</td>\n",
       "      <td>0</td>\n",
       "      <td>0</td>\n",
       "      <td>0</td>\n",
       "      <td>0</td>\n",
       "      <td>...</td>\n",
       "      <td>0</td>\n",
       "      <td>0</td>\n",
       "      <td>0</td>\n",
       "      <td>0</td>\n",
       "      <td>0</td>\n",
       "      <td>0</td>\n",
       "      <td>0</td>\n",
       "      <td>0</td>\n",
       "      <td>0</td>\n",
       "      <td>0</td>\n",
       "    </tr>\n",
       "    <tr>\n",
       "      <th>2</th>\n",
       "      <td>M1E</td>\n",
       "      <td>0</td>\n",
       "      <td>0</td>\n",
       "      <td>0</td>\n",
       "      <td>0</td>\n",
       "      <td>0</td>\n",
       "      <td>0</td>\n",
       "      <td>0</td>\n",
       "      <td>0</td>\n",
       "      <td>0</td>\n",
       "      <td>...</td>\n",
       "      <td>0</td>\n",
       "      <td>0</td>\n",
       "      <td>0</td>\n",
       "      <td>0</td>\n",
       "      <td>0</td>\n",
       "      <td>0</td>\n",
       "      <td>0</td>\n",
       "      <td>0</td>\n",
       "      <td>0</td>\n",
       "      <td>0</td>\n",
       "    </tr>\n",
       "    <tr>\n",
       "      <th>3</th>\n",
       "      <td>M1E</td>\n",
       "      <td>0</td>\n",
       "      <td>0</td>\n",
       "      <td>0</td>\n",
       "      <td>0</td>\n",
       "      <td>0</td>\n",
       "      <td>0</td>\n",
       "      <td>0</td>\n",
       "      <td>0</td>\n",
       "      <td>0</td>\n",
       "      <td>...</td>\n",
       "      <td>0</td>\n",
       "      <td>0</td>\n",
       "      <td>0</td>\n",
       "      <td>0</td>\n",
       "      <td>0</td>\n",
       "      <td>0</td>\n",
       "      <td>0</td>\n",
       "      <td>0</td>\n",
       "      <td>0</td>\n",
       "      <td>0</td>\n",
       "    </tr>\n",
       "    <tr>\n",
       "      <th>4</th>\n",
       "      <td>M1E</td>\n",
       "      <td>0</td>\n",
       "      <td>0</td>\n",
       "      <td>0</td>\n",
       "      <td>0</td>\n",
       "      <td>0</td>\n",
       "      <td>0</td>\n",
       "      <td>0</td>\n",
       "      <td>0</td>\n",
       "      <td>0</td>\n",
       "      <td>...</td>\n",
       "      <td>0</td>\n",
       "      <td>0</td>\n",
       "      <td>0</td>\n",
       "      <td>0</td>\n",
       "      <td>0</td>\n",
       "      <td>0</td>\n",
       "      <td>0</td>\n",
       "      <td>0</td>\n",
       "      <td>0</td>\n",
       "      <td>0</td>\n",
       "    </tr>\n",
       "  </tbody>\n",
       "</table>\n",
       "<p>5 rows × 277 columns</p>\n",
       "</div>"
      ],
      "text/plain": [
       "  Postcode  Accessories Store  Afghan Restaurant  Airport  Airport Food Court  \\\n",
       "0      M1B                  0                  0        0                   0   \n",
       "1      M1C                  0                  0        0                   0   \n",
       "2      M1E                  0                  0        0                   0   \n",
       "3      M1E                  0                  0        0                   0   \n",
       "4      M1E                  0                  0        0                   0   \n",
       "\n",
       "   Airport Gate  Airport Lounge  Airport Service  Airport Terminal  \\\n",
       "0             0               0                0                 0   \n",
       "1             0               0                0                 0   \n",
       "2             0               0                0                 0   \n",
       "3             0               0                0                 0   \n",
       "4             0               0                0                 0   \n",
       "\n",
       "   American Restaurant     ...       Train Station  \\\n",
       "0                    0     ...                   0   \n",
       "1                    0     ...                   0   \n",
       "2                    0     ...                   0   \n",
       "3                    0     ...                   0   \n",
       "4                    0     ...                   0   \n",
       "\n",
       "   Vegetarian / Vegan Restaurant  Video Game Store  Video Store  \\\n",
       "0                              0                 0            0   \n",
       "1                              0                 0            0   \n",
       "2                              0                 0            0   \n",
       "3                              0                 0            0   \n",
       "4                              0                 0            0   \n",
       "\n",
       "   Vietnamese Restaurant  Warehouse Store  Wine Bar  Wings Joint  \\\n",
       "0                      0                0         0            0   \n",
       "1                      0                0         0            0   \n",
       "2                      0                0         0            0   \n",
       "3                      0                0         0            0   \n",
       "4                      0                0         0            0   \n",
       "\n",
       "   Women's Store  Yoga Studio  \n",
       "0              0            0  \n",
       "1              0            0  \n",
       "2              0            0  \n",
       "3              0            0  \n",
       "4              0            0  \n",
       "\n",
       "[5 rows x 277 columns]"
      ]
     },
     "execution_count": 86,
     "metadata": {},
     "output_type": "execute_result"
    }
   ],
   "source": [
    "# one hot encoding of the venue categories\n",
    "Torrono_onehot = pd.get_dummies(Torrono_venues[['Venue Category']], prefix=\"\", prefix_sep=\"\")\n",
    "\n",
    "# add postcode column back to dataframe\n",
    "Torrono_onehot['Postcode'] = Torrono_venues['Postcode'] \n",
    "\n",
    "# move neighborhood column to the first column\n",
    "fixed_columns = [Torrono_onehot.columns[-1]] + list(Torrono_onehot.columns[:-1])\n",
    "Torrono_onehot = Torrono_onehot[fixed_columns]\n",
    "\n",
    "Torrono_onehot.head()"
   ]
  },
  {
   "cell_type": "markdown",
   "metadata": {},
   "source": [
    "#### The data frame is grouped by the post code to get the average frequency of a venue at that post code"
   ]
  },
  {
   "cell_type": "code",
   "execution_count": 87,
   "metadata": {},
   "outputs": [
    {
     "data": {
      "text/html": [
       "<div>\n",
       "<style scoped>\n",
       "    .dataframe tbody tr th:only-of-type {\n",
       "        vertical-align: middle;\n",
       "    }\n",
       "\n",
       "    .dataframe tbody tr th {\n",
       "        vertical-align: top;\n",
       "    }\n",
       "\n",
       "    .dataframe thead th {\n",
       "        text-align: right;\n",
       "    }\n",
       "</style>\n",
       "<table border=\"1\" class=\"dataframe\">\n",
       "  <thead>\n",
       "    <tr style=\"text-align: right;\">\n",
       "      <th></th>\n",
       "      <th>Postcode</th>\n",
       "      <th>Accessories Store</th>\n",
       "      <th>Afghan Restaurant</th>\n",
       "      <th>Airport</th>\n",
       "      <th>Airport Food Court</th>\n",
       "      <th>Airport Gate</th>\n",
       "      <th>Airport Lounge</th>\n",
       "      <th>Airport Service</th>\n",
       "      <th>Airport Terminal</th>\n",
       "      <th>American Restaurant</th>\n",
       "      <th>...</th>\n",
       "      <th>Train Station</th>\n",
       "      <th>Vegetarian / Vegan Restaurant</th>\n",
       "      <th>Video Game Store</th>\n",
       "      <th>Video Store</th>\n",
       "      <th>Vietnamese Restaurant</th>\n",
       "      <th>Warehouse Store</th>\n",
       "      <th>Wine Bar</th>\n",
       "      <th>Wings Joint</th>\n",
       "      <th>Women's Store</th>\n",
       "      <th>Yoga Studio</th>\n",
       "    </tr>\n",
       "  </thead>\n",
       "  <tbody>\n",
       "    <tr>\n",
       "      <th>0</th>\n",
       "      <td>M1B</td>\n",
       "      <td>0.0</td>\n",
       "      <td>0.0</td>\n",
       "      <td>0.0</td>\n",
       "      <td>0.0</td>\n",
       "      <td>0.0</td>\n",
       "      <td>0.0</td>\n",
       "      <td>0.0</td>\n",
       "      <td>0.0</td>\n",
       "      <td>0.0</td>\n",
       "      <td>...</td>\n",
       "      <td>0.0</td>\n",
       "      <td>0.0</td>\n",
       "      <td>0.0</td>\n",
       "      <td>0.0</td>\n",
       "      <td>0.0</td>\n",
       "      <td>0.0</td>\n",
       "      <td>0.0</td>\n",
       "      <td>0.0</td>\n",
       "      <td>0.0</td>\n",
       "      <td>0.0</td>\n",
       "    </tr>\n",
       "    <tr>\n",
       "      <th>1</th>\n",
       "      <td>M1C</td>\n",
       "      <td>0.0</td>\n",
       "      <td>0.0</td>\n",
       "      <td>0.0</td>\n",
       "      <td>0.0</td>\n",
       "      <td>0.0</td>\n",
       "      <td>0.0</td>\n",
       "      <td>0.0</td>\n",
       "      <td>0.0</td>\n",
       "      <td>0.0</td>\n",
       "      <td>...</td>\n",
       "      <td>0.0</td>\n",
       "      <td>0.0</td>\n",
       "      <td>0.0</td>\n",
       "      <td>0.0</td>\n",
       "      <td>0.0</td>\n",
       "      <td>0.0</td>\n",
       "      <td>0.0</td>\n",
       "      <td>0.0</td>\n",
       "      <td>0.0</td>\n",
       "      <td>0.0</td>\n",
       "    </tr>\n",
       "  </tbody>\n",
       "</table>\n",
       "<p>2 rows × 277 columns</p>\n",
       "</div>"
      ],
      "text/plain": [
       "  Postcode  Accessories Store  Afghan Restaurant  Airport  Airport Food Court  \\\n",
       "0      M1B                0.0                0.0      0.0                 0.0   \n",
       "1      M1C                0.0                0.0      0.0                 0.0   \n",
       "\n",
       "   Airport Gate  Airport Lounge  Airport Service  Airport Terminal  \\\n",
       "0           0.0             0.0              0.0               0.0   \n",
       "1           0.0             0.0              0.0               0.0   \n",
       "\n",
       "   American Restaurant     ...       Train Station  \\\n",
       "0                  0.0     ...                 0.0   \n",
       "1                  0.0     ...                 0.0   \n",
       "\n",
       "   Vegetarian / Vegan Restaurant  Video Game Store  Video Store  \\\n",
       "0                            0.0               0.0          0.0   \n",
       "1                            0.0               0.0          0.0   \n",
       "\n",
       "   Vietnamese Restaurant  Warehouse Store  Wine Bar  Wings Joint  \\\n",
       "0                    0.0              0.0       0.0          0.0   \n",
       "1                    0.0              0.0       0.0          0.0   \n",
       "\n",
       "   Women's Store  Yoga Studio  \n",
       "0            0.0          0.0  \n",
       "1            0.0          0.0  \n",
       "\n",
       "[2 rows x 277 columns]"
      ]
     },
     "execution_count": 87,
     "metadata": {},
     "output_type": "execute_result"
    }
   ],
   "source": [
    "Torrono_grouped = Torrono_onehot.groupby('Postcode').mean().reset_index()\n",
    "Torrono_grouped.head(2)"
   ]
  },
  {
   "cell_type": "markdown",
   "metadata": {},
   "source": [
    "#### The idea is to cluster the postcodes across all the neighbourhoods of Toronto <br> The postcodes are now  put through K means clustering to cluster by the type and frequency of a venue    "
   ]
  },
  {
   "cell_type": "code",
   "execution_count": 119,
   "metadata": {},
   "outputs": [
    {
     "name": "stdout",
     "output_type": "stream",
     "text": [
      "100\n"
     ]
    },
    {
     "data": {
      "text/plain": [
       "array([3, 1, 1, 1, 1, 0, 1, 1, 1, 1, 1, 1, 1, 1, 2, 1, 1, 1, 1, 1, 1, 2,\n",
       "       1, 2, 1, 1, 1, 1, 2, 1, 1, 1, 1, 1, 1, 1, 1, 1, 2, 1, 1, 1, 1, 1,\n",
       "       1, 1, 0, 1, 2, 1, 1, 1, 1, 1, 1, 1, 1, 1, 1, 1, 1, 1, 1, 1, 1, 1,\n",
       "       1, 1, 1, 1, 1, 1, 2, 1, 1, 1, 1, 1, 1, 1, 1, 1, 1, 1, 1, 1, 1, 1,\n",
       "       2, 1, 1, 1, 1, 1, 1, 2, 1, 1, 1, 1])"
      ]
     },
     "execution_count": 119,
     "metadata": {},
     "output_type": "execute_result"
    }
   ],
   "source": [
    "# set number of clusters\n",
    "kclusters = 4\n",
    "\n",
    "Torrono_grouped_clustering = Torrono_grouped.drop('Postcode', 1)\n",
    "\n",
    "# run k-means clustering\n",
    "kmeans = KMeans(n_clusters=kclusters, random_state=4 ).fit(Torrono_grouped_clustering)\n",
    "\n",
    "# check cluster labels generated for each row in the dataframe\n",
    "print(len(kmeans.labels_))\n",
    "kmeans.labels_"
   ]
  },
  {
   "cell_type": "markdown",
   "metadata": {},
   "source": [
    "##### Now let's create the new dataframe and display the top 10 venues for each neighborhood."
   ]
  },
  {
   "cell_type": "code",
   "execution_count": 121,
   "metadata": {},
   "outputs": [
    {
     "name": "stdout",
     "output_type": "stream",
     "text": [
      "(100, 11)\n"
     ]
    },
    {
     "data": {
      "text/html": [
       "<div>\n",
       "<style scoped>\n",
       "    .dataframe tbody tr th:only-of-type {\n",
       "        vertical-align: middle;\n",
       "    }\n",
       "\n",
       "    .dataframe tbody tr th {\n",
       "        vertical-align: top;\n",
       "    }\n",
       "\n",
       "    .dataframe thead th {\n",
       "        text-align: right;\n",
       "    }\n",
       "</style>\n",
       "<table border=\"1\" class=\"dataframe\">\n",
       "  <thead>\n",
       "    <tr style=\"text-align: right;\">\n",
       "      <th></th>\n",
       "      <th>Postcode</th>\n",
       "      <th>1st Most Common Venue</th>\n",
       "      <th>2nd Most Common Venue</th>\n",
       "      <th>3rd Most Common Venue</th>\n",
       "      <th>4th Most Common Venue</th>\n",
       "      <th>5th Most Common Venue</th>\n",
       "      <th>6th Most Common Venue</th>\n",
       "      <th>7th Most Common Venue</th>\n",
       "      <th>8th Most Common Venue</th>\n",
       "      <th>9th Most Common Venue</th>\n",
       "      <th>10th Most Common Venue</th>\n",
       "    </tr>\n",
       "  </thead>\n",
       "  <tbody>\n",
       "    <tr>\n",
       "      <th>0</th>\n",
       "      <td>M1B</td>\n",
       "      <td>Fast Food Restaurant</td>\n",
       "      <td>Donut Shop</td>\n",
       "      <td>Dessert Shop</td>\n",
       "      <td>Dim Sum Restaurant</td>\n",
       "      <td>Diner</td>\n",
       "      <td>Discount Store</td>\n",
       "      <td>Dog Run</td>\n",
       "      <td>Doner Restaurant</td>\n",
       "      <td>Drugstore</td>\n",
       "      <td>Farmers Market</td>\n",
       "    </tr>\n",
       "    <tr>\n",
       "      <th>1</th>\n",
       "      <td>M1C</td>\n",
       "      <td>Bar</td>\n",
       "      <td>Yoga Studio</td>\n",
       "      <td>Drugstore</td>\n",
       "      <td>Diner</td>\n",
       "      <td>Discount Store</td>\n",
       "      <td>Dog Run</td>\n",
       "      <td>Doner Restaurant</td>\n",
       "      <td>Donut Shop</td>\n",
       "      <td>Dumpling Restaurant</td>\n",
       "      <td>Dessert Shop</td>\n",
       "    </tr>\n",
       "    <tr>\n",
       "      <th>2</th>\n",
       "      <td>M1E</td>\n",
       "      <td>Intersection</td>\n",
       "      <td>Electronics Store</td>\n",
       "      <td>Rental Car Location</td>\n",
       "      <td>Spa</td>\n",
       "      <td>Pizza Place</td>\n",
       "      <td>Mexican Restaurant</td>\n",
       "      <td>Breakfast Spot</td>\n",
       "      <td>Medical Center</td>\n",
       "      <td>Yoga Studio</td>\n",
       "      <td>Diner</td>\n",
       "    </tr>\n",
       "    <tr>\n",
       "      <th>3</th>\n",
       "      <td>M1G</td>\n",
       "      <td>Coffee Shop</td>\n",
       "      <td>Korean Restaurant</td>\n",
       "      <td>Yoga Studio</td>\n",
       "      <td>Drugstore</td>\n",
       "      <td>Dim Sum Restaurant</td>\n",
       "      <td>Diner</td>\n",
       "      <td>Discount Store</td>\n",
       "      <td>Dog Run</td>\n",
       "      <td>Doner Restaurant</td>\n",
       "      <td>Donut Shop</td>\n",
       "    </tr>\n",
       "    <tr>\n",
       "      <th>4</th>\n",
       "      <td>M1H</td>\n",
       "      <td>Bakery</td>\n",
       "      <td>Hakka Restaurant</td>\n",
       "      <td>Bank</td>\n",
       "      <td>Athletics &amp; Sports</td>\n",
       "      <td>Caribbean Restaurant</td>\n",
       "      <td>Thai Restaurant</td>\n",
       "      <td>Gas Station</td>\n",
       "      <td>Fried Chicken Joint</td>\n",
       "      <td>Discount Store</td>\n",
       "      <td>Dessert Shop</td>\n",
       "    </tr>\n",
       "  </tbody>\n",
       "</table>\n",
       "</div>"
      ],
      "text/plain": [
       "  Postcode 1st Most Common Venue 2nd Most Common Venue 3rd Most Common Venue  \\\n",
       "0      M1B  Fast Food Restaurant            Donut Shop          Dessert Shop   \n",
       "1      M1C                   Bar           Yoga Studio             Drugstore   \n",
       "2      M1E          Intersection     Electronics Store   Rental Car Location   \n",
       "3      M1G           Coffee Shop     Korean Restaurant           Yoga Studio   \n",
       "4      M1H                Bakery      Hakka Restaurant                  Bank   \n",
       "\n",
       "  4th Most Common Venue 5th Most Common Venue 6th Most Common Venue  \\\n",
       "0    Dim Sum Restaurant                 Diner        Discount Store   \n",
       "1                 Diner        Discount Store               Dog Run   \n",
       "2                   Spa           Pizza Place    Mexican Restaurant   \n",
       "3             Drugstore    Dim Sum Restaurant                 Diner   \n",
       "4    Athletics & Sports  Caribbean Restaurant       Thai Restaurant   \n",
       "\n",
       "  7th Most Common Venue 8th Most Common Venue 9th Most Common Venue  \\\n",
       "0               Dog Run      Doner Restaurant             Drugstore   \n",
       "1      Doner Restaurant            Donut Shop   Dumpling Restaurant   \n",
       "2        Breakfast Spot        Medical Center           Yoga Studio   \n",
       "3        Discount Store               Dog Run      Doner Restaurant   \n",
       "4           Gas Station   Fried Chicken Joint        Discount Store   \n",
       "\n",
       "  10th Most Common Venue  \n",
       "0         Farmers Market  \n",
       "1           Dessert Shop  \n",
       "2                  Diner  \n",
       "3             Donut Shop  \n",
       "4           Dessert Shop  "
      ]
     },
     "execution_count": 121,
     "metadata": {},
     "output_type": "execute_result"
    }
   ],
   "source": [
    "#function to sort venues in descending order of frequency\n",
    "def return_most_common_venues(row, num_top_venues):\n",
    "    row_categories = row.iloc[1:]\n",
    "    row_categories_sorted = row_categories.sort_values(ascending=False)\n",
    "    \n",
    "    return row_categories_sorted.index.values[0:num_top_venues]\n",
    "\n",
    "num_top_venues = 10\n",
    "\n",
    "\n",
    "indicators = ['st', 'nd', 'rd']\n",
    "\n",
    "# create columns according to number of top venues\n",
    "columns = ['Postcode']\n",
    "for ind in np.arange(num_top_venues):\n",
    "    try:\n",
    "        columns.append('{}{} Most Common Venue'.format(ind+1, indicators[ind]))\n",
    "    except:\n",
    "        columns.append('{}th Most Common Venue'.format(ind+1))\n",
    "\n",
    "# create a new dataframe\n",
    "neighborhoods_venues_sorted = pd.DataFrame(columns=columns)\n",
    "neighborhoods_venues_sorted['Postcode'] = Torrono_grouped['Postcode']\n",
    "\n",
    "for ind in np.arange(Torrono_grouped.shape[0]):\n",
    "    neighborhoods_venues_sorted.iloc[ind, 1:] = return_most_common_venues(Torrono_grouped.iloc[ind, :], num_top_venues)\n",
    "\n",
    "print(neighborhoods_venues_sorted.shape)\n",
    "neighborhoods_venues_sorted.head()"
   ]
  },
  {
   "cell_type": "markdown",
   "metadata": {},
   "source": [
    "#### the clustering labels are added to the data"
   ]
  },
  {
   "cell_type": "code",
   "execution_count": 122,
   "metadata": {},
   "outputs": [
    {
     "name": "stdout",
     "output_type": "stream",
     "text": [
      "(100, 16)\n"
     ]
    },
    {
     "data": {
      "text/html": [
       "<div>\n",
       "<style scoped>\n",
       "    .dataframe tbody tr th:only-of-type {\n",
       "        vertical-align: middle;\n",
       "    }\n",
       "\n",
       "    .dataframe tbody tr th {\n",
       "        vertical-align: top;\n",
       "    }\n",
       "\n",
       "    .dataframe thead th {\n",
       "        text-align: right;\n",
       "    }\n",
       "</style>\n",
       "<table border=\"1\" class=\"dataframe\">\n",
       "  <thead>\n",
       "    <tr style=\"text-align: right;\">\n",
       "      <th></th>\n",
       "      <th>Postcode</th>\n",
       "      <th>Borough</th>\n",
       "      <th>Neighbourhood</th>\n",
       "      <th>Latitude</th>\n",
       "      <th>Longitude</th>\n",
       "      <th>Cluster Labels</th>\n",
       "      <th>1st Most Common Venue</th>\n",
       "      <th>2nd Most Common Venue</th>\n",
       "      <th>3rd Most Common Venue</th>\n",
       "      <th>4th Most Common Venue</th>\n",
       "      <th>5th Most Common Venue</th>\n",
       "      <th>6th Most Common Venue</th>\n",
       "      <th>7th Most Common Venue</th>\n",
       "      <th>8th Most Common Venue</th>\n",
       "      <th>9th Most Common Venue</th>\n",
       "      <th>10th Most Common Venue</th>\n",
       "    </tr>\n",
       "  </thead>\n",
       "  <tbody>\n",
       "    <tr>\n",
       "      <th>0</th>\n",
       "      <td>M1B</td>\n",
       "      <td>Scarborough</td>\n",
       "      <td>Rouge,Malvern</td>\n",
       "      <td>43.806686</td>\n",
       "      <td>-79.194353</td>\n",
       "      <td>3.0</td>\n",
       "      <td>Fast Food Restaurant</td>\n",
       "      <td>Donut Shop</td>\n",
       "      <td>Dessert Shop</td>\n",
       "      <td>Dim Sum Restaurant</td>\n",
       "      <td>Diner</td>\n",
       "      <td>Discount Store</td>\n",
       "      <td>Dog Run</td>\n",
       "      <td>Doner Restaurant</td>\n",
       "      <td>Drugstore</td>\n",
       "      <td>Farmers Market</td>\n",
       "    </tr>\n",
       "    <tr>\n",
       "      <th>1</th>\n",
       "      <td>M1C</td>\n",
       "      <td>Scarborough</td>\n",
       "      <td>Highland Creek,Rouge Hill,Port Union</td>\n",
       "      <td>43.784535</td>\n",
       "      <td>-79.160497</td>\n",
       "      <td>1.0</td>\n",
       "      <td>Bar</td>\n",
       "      <td>Yoga Studio</td>\n",
       "      <td>Drugstore</td>\n",
       "      <td>Diner</td>\n",
       "      <td>Discount Store</td>\n",
       "      <td>Dog Run</td>\n",
       "      <td>Doner Restaurant</td>\n",
       "      <td>Donut Shop</td>\n",
       "      <td>Dumpling Restaurant</td>\n",
       "      <td>Dessert Shop</td>\n",
       "    </tr>\n",
       "    <tr>\n",
       "      <th>2</th>\n",
       "      <td>M1E</td>\n",
       "      <td>Scarborough</td>\n",
       "      <td>Guildwood,Morningside,West Hill</td>\n",
       "      <td>43.763573</td>\n",
       "      <td>-79.188711</td>\n",
       "      <td>1.0</td>\n",
       "      <td>Intersection</td>\n",
       "      <td>Electronics Store</td>\n",
       "      <td>Rental Car Location</td>\n",
       "      <td>Spa</td>\n",
       "      <td>Pizza Place</td>\n",
       "      <td>Mexican Restaurant</td>\n",
       "      <td>Breakfast Spot</td>\n",
       "      <td>Medical Center</td>\n",
       "      <td>Yoga Studio</td>\n",
       "      <td>Diner</td>\n",
       "    </tr>\n",
       "    <tr>\n",
       "      <th>3</th>\n",
       "      <td>M1G</td>\n",
       "      <td>Scarborough</td>\n",
       "      <td>Woburn</td>\n",
       "      <td>43.770992</td>\n",
       "      <td>-79.216917</td>\n",
       "      <td>1.0</td>\n",
       "      <td>Coffee Shop</td>\n",
       "      <td>Korean Restaurant</td>\n",
       "      <td>Yoga Studio</td>\n",
       "      <td>Drugstore</td>\n",
       "      <td>Dim Sum Restaurant</td>\n",
       "      <td>Diner</td>\n",
       "      <td>Discount Store</td>\n",
       "      <td>Dog Run</td>\n",
       "      <td>Doner Restaurant</td>\n",
       "      <td>Donut Shop</td>\n",
       "    </tr>\n",
       "    <tr>\n",
       "      <th>4</th>\n",
       "      <td>M1H</td>\n",
       "      <td>Scarborough</td>\n",
       "      <td>Cedarbrae</td>\n",
       "      <td>43.773136</td>\n",
       "      <td>-79.239476</td>\n",
       "      <td>1.0</td>\n",
       "      <td>Bakery</td>\n",
       "      <td>Hakka Restaurant</td>\n",
       "      <td>Bank</td>\n",
       "      <td>Athletics &amp; Sports</td>\n",
       "      <td>Caribbean Restaurant</td>\n",
       "      <td>Thai Restaurant</td>\n",
       "      <td>Gas Station</td>\n",
       "      <td>Fried Chicken Joint</td>\n",
       "      <td>Discount Store</td>\n",
       "      <td>Dessert Shop</td>\n",
       "    </tr>\n",
       "  </tbody>\n",
       "</table>\n",
       "</div>"
      ],
      "text/plain": [
       "  Postcode      Borough                         Neighbourhood   Latitude  \\\n",
       "0      M1B  Scarborough                         Rouge,Malvern  43.806686   \n",
       "1      M1C  Scarborough  Highland Creek,Rouge Hill,Port Union  43.784535   \n",
       "2      M1E  Scarborough       Guildwood,Morningside,West Hill  43.763573   \n",
       "3      M1G  Scarborough                                Woburn  43.770992   \n",
       "4      M1H  Scarborough                             Cedarbrae  43.773136   \n",
       "\n",
       "   Longitude  Cluster Labels 1st Most Common Venue 2nd Most Common Venue  \\\n",
       "0 -79.194353             3.0  Fast Food Restaurant            Donut Shop   \n",
       "1 -79.160497             1.0                   Bar           Yoga Studio   \n",
       "2 -79.188711             1.0          Intersection     Electronics Store   \n",
       "3 -79.216917             1.0           Coffee Shop     Korean Restaurant   \n",
       "4 -79.239476             1.0                Bakery      Hakka Restaurant   \n",
       "\n",
       "  3rd Most Common Venue 4th Most Common Venue 5th Most Common Venue  \\\n",
       "0          Dessert Shop    Dim Sum Restaurant                 Diner   \n",
       "1             Drugstore                 Diner        Discount Store   \n",
       "2   Rental Car Location                   Spa           Pizza Place   \n",
       "3           Yoga Studio             Drugstore    Dim Sum Restaurant   \n",
       "4                  Bank    Athletics & Sports  Caribbean Restaurant   \n",
       "\n",
       "  6th Most Common Venue 7th Most Common Venue 8th Most Common Venue  \\\n",
       "0        Discount Store               Dog Run      Doner Restaurant   \n",
       "1               Dog Run      Doner Restaurant            Donut Shop   \n",
       "2    Mexican Restaurant        Breakfast Spot        Medical Center   \n",
       "3                 Diner        Discount Store               Dog Run   \n",
       "4       Thai Restaurant           Gas Station   Fried Chicken Joint   \n",
       "\n",
       "  9th Most Common Venue 10th Most Common Venue  \n",
       "0             Drugstore         Farmers Market  \n",
       "1   Dumpling Restaurant           Dessert Shop  \n",
       "2           Yoga Studio                  Diner  \n",
       "3      Doner Restaurant             Donut Shop  \n",
       "4        Discount Store           Dessert Shop  "
      ]
     },
     "execution_count": 122,
     "metadata": {},
     "output_type": "execute_result"
    }
   ],
   "source": [
    "# add clustering labels\n",
    "neighborhoods_venues_sorted.insert(0, 'Cluster Labels', kmeans.labels_)\n",
    "\n",
    "Torrono_merged = df_n2_ll\n",
    "\n",
    "# merge toronto_grouped with toronto_data to add latitude/longitude for each neighborhood\n",
    "Torrono_merged = Torrono_merged.join(neighborhoods_venues_sorted.set_index('Postcode'), on='Postcode')\n",
    "\n",
    "Torrono_merged.dropna(subset=['Cluster Labels'], axis =0, inplace = True)\n",
    "\n",
    "print(Torrono_merged.shape)\n",
    "Torrono_merged.head()"
   ]
  },
  {
   "cell_type": "markdown",
   "metadata": {},
   "source": [
    "#### Results roughly indicate that <br> <br> Postcodes with Coffee Shops primarily are clustered to cluster 1,  <br> <br>   Playgrounds are in cluster 0 ,  <br> <br> Parks/Rivers to cluster 2"
   ]
  },
  {
   "cell_type": "code",
   "execution_count": 157,
   "metadata": {},
   "outputs": [
    {
     "data": {
      "text/plain": [
       "Cluster Labels  1st Most Common Venue     \n",
       "0.0             Playground                     1\n",
       "                Restaurant                     1\n",
       "1.0             Airport Service                1\n",
       "                Bakery                         3\n",
       "                Bar                            2\n",
       "                Baseball Field                 1\n",
       "                Breakfast Spot                 1\n",
       "                Business Service               1\n",
       "                Cafeteria                      1\n",
       "                Café                           8\n",
       "                Clothing Store                 2\n",
       "                Coffee Shop                   18\n",
       "                Construction & Landscaping     1\n",
       "                Curling Ice                    1\n",
       "                Discount Store                 1\n",
       "                Fast Food Restaurant           2\n",
       "                Filipino Restaurant            1\n",
       "                Furniture / Home Store         1\n",
       "                Garden                         1\n",
       "                General Entertainment          1\n",
       "                Gift Shop                      1\n",
       "                Greek Restaurant               1\n",
       "                Grocery Store                  4\n",
       "                Gym                            1\n",
       "                Gym / Fitness Center           2\n",
       "                Hockey Arena                   1\n",
       "                Hotel                          1\n",
       "                Indian Restaurant              2\n",
       "                Intersection                   1\n",
       "                Italian Restaurant             1\n",
       "                Japanese Restaurant            2\n",
       "                Light Rail Station             1\n",
       "                Lounge                         1\n",
       "                Middle Eastern Restaurant      1\n",
       "                Motel                          1\n",
       "                Park                           5\n",
       "                Pizza Place                    4\n",
       "                Pool                           1\n",
       "                Portuguese Restaurant          1\n",
       "                Pub                            1\n",
       "                Ramen Restaurant               1\n",
       "                Rental Car Location            1\n",
       "                Restaurant                     1\n",
       "                Sandwich Place                 3\n",
       "                Sporting Goods Shop            1\n",
       "                Trail                          1\n",
       "2.0             Park                           8\n",
       "                River                          1\n",
       "3.0             Fast Food Restaurant           1\n",
       "Name: Postcode, dtype: int64"
      ]
     },
     "execution_count": 157,
     "metadata": {},
     "output_type": "execute_result"
    }
   ],
   "source": [
    "Torrono_merged.groupby(['Cluster Labels','1st Most Common Venue'], sort=True)['Postcode'].count()"
   ]
  },
  {
   "cell_type": "markdown",
   "metadata": {},
   "source": [
    "#### Mapping the clusters on a map centered around Toronto"
   ]
  },
  {
   "cell_type": "code",
   "execution_count": 126,
   "metadata": {
    "scrolled": true
   },
   "outputs": [
    {
     "data": {
      "text/html": [
       "<div style=\"width:100%;\"><div style=\"position:relative;width:100%;height:0;padding-bottom:60%;\"><iframe src=\"data:text/html;charset=utf-8;base64,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\" style=\"position:absolute;width:100%;height:100%;left:0;top:0;border:none !important;\" allowfullscreen webkitallowfullscreen mozallowfullscreen></iframe></div></div>"
      ],
      "text/plain": [
       "<folium.folium.Map at 0x1a3c82315f8>"
      ]
     },
     "execution_count": 126,
     "metadata": {},
     "output_type": "execute_result"
    }
   ],
   "source": [
    "# create map\n",
    "map_clusters = folium.Map(location=[43.6532, -79.3832], zoom_start=11)\n",
    "\n",
    "# set color scheme for the clusters\n",
    "x = np.arange(kclusters)\n",
    "ys = [i + x + (i*x)**2 for i in range(kclusters)]\n",
    "colors_array = cm.rainbow(np.linspace(0, 1, len(ys)))\n",
    "rainbow = [colors.rgb2hex(i) for i in colors_array]\n",
    "\n",
    "# add markers to the map\n",
    "markers_colors = []\n",
    "for lat, lon, poi, cluster in zip(Torrono_merged['Latitude'], Torrono_merged['Longitude'], Torrono_merged['Postcode'], Torrono_merged['Cluster Labels']):\n",
    "    label = folium.Popup(str(poi) + ' Cluster ' + str(cluster), parse_html=True)\n",
    "    folium.CircleMarker(\n",
    "        [lat, lon],\n",
    "        radius=5,\n",
    "        popup=label,\n",
    "        color=rainbow[int(cluster-1)],\n",
    "        fill=True,\n",
    "        fill_color=rainbow[int(cluster-1)],\n",
    "        fill_opacity=0.4).add_to(map_clusters)\n",
    "       \n",
    "map_clusters"
   ]
  },
  {
   "cell_type": "code",
   "execution_count": null,
   "metadata": {},
   "outputs": [],
   "source": []
  },
  {
   "cell_type": "code",
   "execution_count": null,
   "metadata": {},
   "outputs": [],
   "source": []
  }
 ],
 "metadata": {
  "kernelspec": {
   "display_name": "Python 3",
   "language": "python",
   "name": "python3"
  },
  "language_info": {
   "codemirror_mode": {
    "name": "ipython",
    "version": 3
   },
   "file_extension": ".py",
   "mimetype": "text/x-python",
   "name": "python",
   "nbconvert_exporter": "python",
   "pygments_lexer": "ipython3",
   "version": "3.6.5"
  }
 },
 "nbformat": 4,
 "nbformat_minor": 2
}
